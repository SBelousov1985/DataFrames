{
 "cells": [
  {
   "cell_type": "markdown",
   "metadata": {},
   "source": [
    "## Импортируем библиотеки"
   ]
  },
  {
   "cell_type": "code",
   "execution_count": 1,
   "metadata": {},
   "outputs": [],
   "source": [
    "import numpy as np\n",
    "import os\n",
    "import pandas as pd"
   ]
  },
  {
   "cell_type": "markdown",
   "metadata": {},
   "source": [
    "## Определим путь к данным"
   ]
  },
  {
   "cell_type": "code",
   "execution_count": 2,
   "metadata": {},
   "outputs": [
    {
     "name": "stdout",
     "output_type": "stream",
     "text": [
      "C:\\Users\\Белоусовы\\Python\\4.1\\names\n"
     ]
    }
   ],
   "source": [
    "DATA_PATH = os.path.join(os.getcwd(), 'Python', '4.1', 'names')\n",
    "print(DATA_PATH)"
   ]
  },
  {
   "cell_type": "markdown",
   "metadata": {},
   "source": [
    "## Опишем функцию, которая вернет отфильтрованный список файлов по расширению"
   ]
  },
  {
   "cell_type": "code",
   "execution_count": 30,
   "metadata": {},
   "outputs": [],
   "source": [
    "def get_files_by_ext(files, ext):\n",
    "    result = {}\n",
    "    for file_name in files:\n",
    "        if file_name.endswith(\".\" + ext):\n",
    "            year = int(os.path.splitext(os.path.basename(file_name))[0][-4:])\n",
    "            result[year] = os.path.join(DATA_PATH, file_name)\n",
    "    return result"
   ]
  },
  {
   "cell_type": "markdown",
   "metadata": {},
   "source": [
    "## Список текстовых файлов:"
   ]
  },
  {
   "cell_type": "code",
   "execution_count": 33,
   "metadata": {},
   "outputs": [
    {
     "name": "stdout",
     "output_type": "stream",
     "text": [
      "C:\\Users\\Белоусовы\\Python\\4.1\\names\\yob1880.txt\n",
      "C:\\Users\\Белоусовы\\Python\\4.1\\names\\yob1881.txt\n",
      "C:\\Users\\Белоусовы\\Python\\4.1\\names\\yob1882.txt\n",
      "C:\\Users\\Белоусовы\\Python\\4.1\\names\\yob2017.txt\n"
     ]
    }
   ],
   "source": [
    "file_list = get_files_by_ext(os.listdir(DATA_PATH), \"txt\")\n",
    "print(file_list[1880])\n",
    "print(file_list[1881])\n",
    "print(file_list[1882])\n",
    "print(file_list[2017])"
   ]
  },
  {
   "cell_type": "markdown",
   "metadata": {},
   "source": [
    "## Функция получения сгруппированного списка по входным годам"
   ]
  },
  {
   "cell_type": "code",
   "execution_count": 49,
   "metadata": {},
   "outputs": [
    {
     "name": "stdout",
     "output_type": "stream",
     "text": [
      "         Count\n",
      "Name          \n",
      "Aadam        6\n",
      "Aadarsh      5\n",
      "Aadil        9\n"
     ]
    }
   ],
   "source": [
    "def get_df_concat(years):\n",
    "    dfs = []\n",
    "    for year in years:\n",
    "        dfs.append(pd.read_csv(file_list[year],\n",
    "                               names=['Name', 'Gender', 'Count'],\n",
    "                               engine=\"python\"))\n",
    "    return pd.concat(dfs, ignore_index=True).groupby('Name').sum()\n",
    "print(get_df_concat([1900, 1950, 2000]).head(3))"
   ]
  },
  {
   "cell_type": "markdown",
   "metadata": {},
   "source": [
    "## ТОП n популярных имен"
   ]
  },
  {
   "cell_type": "code",
   "execution_count": 69,
   "metadata": {},
   "outputs": [
    {
     "name": "stdout",
     "output_type": "stream",
     "text": [
      "['James', 'John', 'Robert']\n"
     ]
    }
   ],
   "source": [
    "def get_top_n_names(years, n):\n",
    "    return get_df_concat(years).sort_values('Count', ascending=False).head(n)\n",
    "df = get_top_n_names([1900, 1950, 2000], 3)\n",
    "print(df.index.values.tolist())"
   ]
  },
  {
   "cell_type": "markdown",
   "metadata": {},
   "source": [
    "## Функция соединяющая фреймы"
   ]
  },
  {
   "cell_type": "code",
   "execution_count": 107,
   "metadata": {},
   "outputs": [
    {
     "name": "stdout",
     "output_type": "stream",
     "text": [
      "    Name Gender  Count_1900  Count_1950  Count_2000\n",
      "0   Mary      F       16706       65482        6192\n",
      "1  Helen      F        6343        7059         890\n",
      "2   Anna      F        6114        3817       10588\n"
     ]
    }
   ],
   "source": [
    "def get_df_merge(years):\n",
    "    df = None\n",
    "    for year in years:\n",
    "        if df is None:\n",
    "            df = pd.read_csv(file_list[year],\n",
    "                             names=['Name', 'Gender', 'Count_' + str(year)],\n",
    "                             engine=\"python\")\n",
    "        else:\n",
    "            df2 = pd.read_csv(file_list[year],\n",
    "                              names=['Name', 'Gender', 'Count_' + str(year)],\n",
    "                              engine=\"python\")\n",
    "            df = pd.merge(df, df2, on=['Name', 'Gender'], how='outer')\n",
    "    for year in years:\n",
    "        df['Count_' + str(year)] = df['Count_' + str(year)].fillna(0).astype(np.int64)\n",
    "    return df\n",
    "print(get_df_merge([1900, 1950, 2000]).head(3))"
   ]
  },
  {
   "cell_type": "markdown",
   "metadata": {},
   "source": [
    "## Динамика изменения количества имен за указанные года в разрезе полов"
   ]
  },
  {
   "cell_type": "code",
   "execution_count": 108,
   "metadata": {},
   "outputs": [
    {
     "name": "stdout",
     "output_type": "stream",
     "text": [
      "Count_1900    int64\n",
      "Count_1950    int64\n",
      "Count_2000    int64\n",
      "dtype: object\n",
      "{'F': [299800, 1713151, 1815110], 'M': [150483, 1790549, 1962969]}\n"
     ]
    }
   ],
   "source": [
    "def count_dynamics(years):    \n",
    "    df = get_df_merge(years)\n",
    "    df = df.groupby('Gender').sum()\n",
    "    print(df.dtypes)\n",
    "    return df.T.to_dict('list')\n",
    "print(count_dynamics([1900, 1950, 2000]))"
   ]
  }
 ],
 "metadata": {
  "kernelspec": {
   "display_name": "Python 3",
   "language": "python",
   "name": "python3"
  },
  "language_info": {
   "codemirror_mode": {
    "name": "ipython",
    "version": 3
   },
   "file_extension": ".py",
   "mimetype": "text/x-python",
   "name": "python",
   "nbconvert_exporter": "python",
   "pygments_lexer": "ipython3",
   "version": "3.6.5"
  }
 },
 "nbformat": 4,
 "nbformat_minor": 2
}
